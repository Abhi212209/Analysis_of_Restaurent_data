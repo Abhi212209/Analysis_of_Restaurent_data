{
 "cells": [
  {
   "cell_type": "markdown",
   "id": "0a827da7-918d-4a3b-844f-8e4845a393a2",
   "metadata": {},
   "source": [
    "LEVEL_3"
   ]
  },
  {
   "cell_type": "markdown",
   "id": "aaf27a3d-2ab9-4db4-ae58-8e75b87a57bf",
   "metadata": {},
   "source": [
    "TASK-1 ==> Analyze the text reviews to identify the most\r\n",
    "common positive and negative keywords.\r\n",
    "Calculate the average length of reviews and\r\n",
    "explore if there is a relationship between\r\n",
    "review length and rating.\r"
   ]
  },
  {
   "cell_type": "code",
   "execution_count": 1,
   "id": "bcda21b5-6e49-4f45-98fc-d4e796e8b149",
   "metadata": {},
   "outputs": [
    {
     "name": "stderr",
     "output_type": "stream",
     "text": [
      "[nltk_data] Downloading package stopwords to\n",
      "[nltk_data]     C:\\Users\\hp\\AppData\\Roaming\\nltk_data...\n",
      "[nltk_data]   Package stopwords is already up-to-date!\n",
      "[nltk_data] Downloading package punkt to\n",
      "[nltk_data]     C:\\Users\\hp\\AppData\\Roaming\\nltk_data...\n",
      "[nltk_data]   Package punkt is already up-to-date!\n"
     ]
    },
    {
     "data": {
      "text/plain": [
       "True"
      ]
     },
     "execution_count": 1,
     "metadata": {},
     "output_type": "execute_result"
    }
   ],
   "source": [
    "import pandas as pd\n",
    "import nltk\n",
    "from nltk.tokenize import word_tokenize\n",
    "from nltk.corpus import stopwords\n",
    "from nltk.sentiment import SentimentIntensityAnalyzer\n",
    "import matplotlib.pyplot as plt\n",
    "nltk.download('stopwords')\n",
    "nltk.download('punkt')\n"
   ]
  },
  {
   "cell_type": "code",
   "execution_count": 2,
   "id": "65abe696-c878-42bd-924d-1814f98af025",
   "metadata": {},
   "outputs": [],
   "source": [
    "df = pd.read_csv('Dataset .csv')"
   ]
  },
  {
   "cell_type": "code",
   "execution_count": 3,
   "id": "3ad9bd9f-a77e-45d0-81ec-f4f81743ab7b",
   "metadata": {},
   "outputs": [],
   "source": [
    "sia = SentimentIntensityAnalyzer()"
   ]
  },
  {
   "cell_type": "code",
   "execution_count": 4,
   "id": "26c266e6-0ad1-489b-925f-fcaf9b154be5",
   "metadata": {},
   "outputs": [],
   "source": [
    "def calculate_sentiment(text):\n",
    "    sentiment_scores = sia.polarity_scores(text)\n",
    "    return sentiment_scores['compound']"
   ]
  },
  {
   "cell_type": "code",
   "execution_count": 5,
   "id": "95f718dd-c221-4483-a665-a39eadfb5f91",
   "metadata": {},
   "outputs": [],
   "source": [
    "df['sentiment'] = df['Rating text'].apply(calculate_sentiment)"
   ]
  },
  {
   "cell_type": "code",
   "execution_count": 6,
   "id": "73f311cc-5908-43e8-8021-a36fc5e10636",
   "metadata": {},
   "outputs": [],
   "source": [
    "positive_reviews = df[df['sentiment'] > 0.5]\n",
    "negative_reviews = df[df['sentiment'] < -0.5]\n",
    "\n",
    "positive_tokens = [word_tokenize(review) for review in positive_reviews['Rating text']]\n",
    "negative_tokens = [word_tokenize(review) for review in negative_reviews['Rating text']]\n"
   ]
  },
  {
   "cell_type": "code",
   "execution_count": 7,
   "id": "e02bffda-37f1-4b12-a44e-b9f6d99f753f",
   "metadata": {},
   "outputs": [],
   "source": [
    "stop_words = set(stopwords.words('english'))\n",
    "positive_tokens = [[word for word in tokens if word not in stop_words] for tokens in positive_tokens]\n",
    "negative_tokens = [[word for word in tokens if word not in stop_words] for tokens in negative_tokens]\n",
    "\n",
    "positive_word_freq = nltk.FreqDist([word for tokens in positive_tokens for word in tokens])\n",
    "negative_word_freq = nltk.FreqDist([word for tokens in negative_tokens for word in tokens])\n"
   ]
  },
  {
   "cell_type": "code",
   "execution_count": 8,
   "id": "26c3c7aa-9cac-4cd6-b3a4-a4b315b392d2",
   "metadata": {},
   "outputs": [
    {
     "name": "stdout",
     "output_type": "stream",
     "text": [
      "Top Positive Keywords:\n",
      "[('Excellent', 301)]\n",
      "Top Negative Keywords:\n",
      "[]\n"
     ]
    }
   ],
   "source": [
    "positive_keywords = positive_word_freq.most_common()\n",
    "negative_keywords = negative_word_freq.most_common()\n",
    "\n",
    "print(\"Top Positive Keywords:\")\n",
    "print(positive_keywords)\n",
    "print(\"Top Negative Keywords:\")\n",
    "print(negative_keywords)"
   ]
  },
  {
   "cell_type": "code",
   "execution_count": 9,
   "id": "11ea3a3f-e3f2-4b5e-8cb0-4363873136d6",
   "metadata": {},
   "outputs": [
    {
     "name": "stdout",
     "output_type": "stream",
     "text": [
      "Average Review Length: 7.020730813527379\n"
     ]
    }
   ],
   "source": [
    "avg_review_length = df['Rating text'].apply(len).mean()\n",
    "print(\"Average Review Length:\", avg_review_length)"
   ]
  },
  {
   "cell_type": "code",
   "execution_count": 10,
   "id": "d1edd1b9-ea1a-4392-87f5-e32aef1d1129",
   "metadata": {},
   "outputs": [
    {
     "data": {
      "image/png": "[encoded data removed]",
      "text/plain": [
       "<Figure size 640x480 with 1 Axes>"
      ]
     },
     "metadata": {},
     "output_type": "display_data"
    }
   ],
   "source": [
    "plt.scatter(df['Rating text'].apply(len), df['Votes'])\n",
    "plt.xlabel('Review Length')\n",
    "plt.ylabel('Votes')\n",
    "plt.title('Review Length vs. Rating')\n",
    "plt.show()"
   ]
  },
  {
   "cell_type": "code",
   "execution_count": null,
   "id": "5c633ddf-5131-4779-ad4c-ecfcdfb209dd",
   "metadata": {},
   "outputs": [],
   "source": []
  },
  {
   "cell_type": "markdown",
   "id": "f3606312-26a0-4bc9-81d7-098b37920d16",
   "metadata": {},
   "source": [
    "TASK-2 ==>Identify the restaurants with the highest and\r\n",
    "lowest number of votes.\r\n",
    "Analyze if there is a correlation between the\r\n",
    "number of votes and the rating of a\r\n",
    "restaurant.\r"
   ]
  },
  {
   "cell_type": "code",
   "execution_count": 11,
   "id": "7c553853-9e6e-4755-a224-a5748af64b77",
   "metadata": {},
   "outputs": [],
   "source": [
    "import pandas as pd\n",
    "import matplotlib.pyplot as plt\n"
   ]
  },
  {
   "cell_type": "code",
   "execution_count": 12,
   "id": "39db4430-fd5a-40f0-ad52-45d3d283d01c",
   "metadata": {},
   "outputs": [],
   "source": [
    "df = pd.read_csv('Dataset .csv')"
   ]
  },
  {
   "cell_type": "code",
   "execution_count": 15,
   "id": "88e7b709-230b-41c1-9109-bb18181ae530",
   "metadata": {},
   "outputs": [],
   "source": [
    "most_voted_restaurants = df.nlargest(10, 'Votes')\n",
    "least_voted_restaurants = df.nsmallest(10, 'Votes')"
   ]
  },
  {
   "cell_type": "code",
   "execution_count": 16,
   "id": "a4e530e3-efaa-4306-bad8-fd36f2d75245",
   "metadata": {},
   "outputs": [
    {
     "name": "stdout",
     "output_type": "stream",
     "text": [
      "Restaurants with the highest number of votes:\n",
      "                Restaurant Name  Votes\n",
      "728                        Toit  10934\n",
      "735                    Truffles   9667\n",
      "3994           Hauz Khas Social   7931\n",
      "2412                  Peter Cat   7574\n",
      "739   AB's - Absolute Barbecues   6907\n",
      "2414            Barbeque Nation   5966\n",
      "743                 Big Brewsky   5705\n",
      "2307  AB's - Absolute Barbecues   5434\n",
      "736             The Black Pearl   5385\n",
      "2411                      BarBQ   5288\n",
      "Restaurants with the lowest number of votes:\n",
      "        Restaurant Name  Votes\n",
      "69     Cantinho da Gula      0\n",
      "874       The Chaiwalas      0\n",
      "879  Fusion Food Corner      0\n",
      "880       Punjabi Rasoi      0\n",
      "887       Baskin Robbin      0\n",
      "900              Angaar      0\n",
      "901               TcozY      0\n",
      "902       The Retriever      0\n",
      "905      Chill 'N Grill      0\n",
      "906  Punjabi Restaurant      0\n"
     ]
    }
   ],
   "source": [
    "print(\"Restaurants with the highest number of votes:\")\n",
    "print(most_voted_restaurants[['Restaurant Name', 'Votes']])\n",
    "print(\"Restaurants with the lowest number of votes:\")\n",
    "print(least_voted_restaurants[['Restaurant Name', 'Votes']])"
   ]
  },
  {
   "cell_type": "code",
   "execution_count": 17,
   "id": "b7b0927c-d0f9-47e0-9dc7-447d1c1f8983",
   "metadata": {},
   "outputs": [
    {
     "name": "stdout",
     "output_type": "stream",
     "text": [
      "Correlation coefficient between votes and rating: 0.3136905841954073\n"
     ]
    }
   ],
   "source": [
    "corr_coef = df['Votes'].corr(df['Aggregate rating'])\n",
    "print(\"Correlation coefficient between votes and rating:\", corr_coef)"
   ]
  },
  {
   "cell_type": "code",
   "execution_count": 18,
   "id": "cdcb0a79-f588-496e-b1cd-117655cf00ec",
   "metadata": {},
   "outputs": [
    {
     "data": {
      "image/png": "[encoded data removed]",
      "text/plain": [
       "<Figure size 640x480 with 1 Axes>"
      ]
     },
     "metadata": {},
     "output_type": "display_data"
    }
   ],
   "source": [
    "plt.scatter(df['Votes'], df['Aggregate rating'])\n",
    "plt.xlabel('Number of Votes')\n",
    "plt.ylabel('rating')\n",
    "plt.title('Votes vs. Rating')\n",
    "plt.show()"
   ]
  }
 ],
 "metadata": {
  "kernelspec": {
   "display_name": "Python 3 (ipykernel)",
   "language": "python",
   "name": "python3"
  },
  "language_info": {
   "codemirror_mode": {
    "name": "ipython",
    "version": 3
   },
   "file_extension": ".py",
   "mimetype": "text/x-python",
   "name": "python",
   "nbconvert_exporter": "python",
   "pygments_lexer": "ipython3",
   "version": "3.11.7"
  }
 },
 "nbformat": 4,
 "nbformat_minor": 5
}
